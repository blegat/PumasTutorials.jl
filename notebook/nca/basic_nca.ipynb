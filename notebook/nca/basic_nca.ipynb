{
  "cells": [
    {
      "cell_type": "markdown",
      "source": [
        "# NCA Tutorial\n### Yingbo Ma\n### July 19, 2019\n# Introduction\n\nThis is an introduction to `NCA.jl`, a software for noncompartmental analysis (NCA).\nIn this tutorial we will show how to use `NCA.jl` to analysis data.\n\n## Installation\n\nCurrently, `NCA.jl` is a submodule in `Pumas.jl`, so you only need to install\n`Pumas.jl`, and everything will be ready to go.\n\n## Getting Started\n\nTo load the package, use"
      ],
      "metadata": {}
    },
    {
      "outputs": [],
      "cell_type": "code",
      "source": [
        "using Pumas.NCA"
      ],
      "metadata": {},
      "execution_count": null
    },
    {
      "cell_type": "markdown",
      "source": [
        "First, let's load the example NCA data inside `Pumas.jl`. This data have $24$\nindividuals, and each of them has $16$ data points."
      ],
      "metadata": {}
    },
    {
      "outputs": [],
      "cell_type": "code",
      "source": [
        "using Pumas, CSV\n\nfile = Pumas.example_data(\"nca_test_data/dapa_IV\")\ndata = CSV.read(file);"
      ],
      "metadata": {},
      "execution_count": null
    },
    {
      "cell_type": "markdown",
      "source": [
        "here is what the dataset looks like"
      ],
      "metadata": {}
    },
    {
      "outputs": [],
      "cell_type": "code",
      "source": [
        "first(data, 6) # take first 6 rows"
      ],
      "metadata": {},
      "execution_count": null
    },
    {
      "cell_type": "markdown",
      "source": [
        "# Efficient Computation of Multiple NCA Diagnostics\n\n## AUC and AUMC\n\nWe can compute the area under the curve (AUC) from the first observation time\nto infinity. Below we are accessing the concentration and corresponding time\narray for the first individual. By default, the `auc` function computes the AUC\nfrom initial time to infinity (AUCinf)."
      ],
      "metadata": {}
    },
    {
      "outputs": [],
      "cell_type": "code",
      "source": [
        "NCA.auc(data[:CObs][1:16], data[:TIME][1:16])"
      ],
      "metadata": {},
      "execution_count": null
    },
    {
      "outputs": [],
      "cell_type": "code",
      "source": [
        "NCA.auc(data[:CObs][1:16], data[:TIME][1:16], method=:linuplogdown)"
      ],
      "metadata": {},
      "execution_count": null
    },
    {
      "cell_type": "markdown",
      "source": [
        "the keyword argument `method` can be `:linear`, `:linuplogdown`, or `:linlog`,\nand it defaults to `:linear`. This is a simple interface, however it is not\nefficient if you want to compute many quantities. The recommended way is to\ncreate an `NCASubject` or an `NCAPopulation` object first and then call the\nrespective NCA diagnostic on the data object. To parse data to an\n`NCAPopulation` object one can call the `read_nca` function and assign the\ncorresponding data to column names: `id`, `time`, `conc` (concentration), `amt`\n(dosage), and `route`. Note that, by default, the lower limit of quantization\n(LLQ) is $0$, and concentrations that are below LLQ (BLQ) are dropped. Also, we\ncan add units by providing `timeu`, `concu`, and `amtu`."
      ],
      "metadata": {}
    },
    {
      "outputs": [],
      "cell_type": "code",
      "source": [
        "timeu = u\"hr\"\nconcu = u\"mg/L\"\namtu  = u\"mg\"\ndata.id = data.ID\ndata.time = data.TIME\ndata.conc = data.CObs\ndata.amt = data.AMT_IV\ndata.route = \"iv\"\npop = read_nca(data, llq=0concu, timeu=timeu, concu=concu, amtu=amtu)"
      ],
      "metadata": {},
      "execution_count": null
    },
    {
      "cell_type": "markdown",
      "source": [
        "Here, each element of `pop` has the type `NCASubject`. It is a lazy data\nstructure and actual computations are not performed.  When we are instantiating\n`NCASubject`, it only performs data checking and cleaning. To calculate AUC,\none can do:"
      ],
      "metadata": {}
    },
    {
      "outputs": [],
      "cell_type": "code",
      "source": [
        "NCA.auc(pop)"
      ],
      "metadata": {},
      "execution_count": null
    },
    {
      "cell_type": "markdown",
      "source": [
        "`AUClast` is the area under the curve from the first observation to the last\nobservation. To compute `AUClast` on the second individual, one would do:"
      ],
      "metadata": {}
    },
    {
      "outputs": [],
      "cell_type": "code",
      "source": [
        "NCA.auc(pop[2], auctype=:last)"
      ],
      "metadata": {},
      "execution_count": null
    },
    {
      "cell_type": "markdown",
      "source": [
        "Or to compute the AUC on every individual, one would do:"
      ],
      "metadata": {}
    },
    {
      "outputs": [],
      "cell_type": "code",
      "source": [
        "NCA.auc(pop, auctype=:last)"
      ],
      "metadata": {},
      "execution_count": null
    },
    {
      "cell_type": "markdown",
      "source": [
        "One can also compute AUC on a certain interval. To compute AUC on the interval\n$[10, \\infty]$ on the first individual"
      ],
      "metadata": {}
    },
    {
      "outputs": [],
      "cell_type": "code",
      "source": [
        "NCA.auc(pop[1], interval=(10,Inf).*timeu)"
      ],
      "metadata": {},
      "execution_count": null
    },
    {
      "cell_type": "markdown",
      "source": [
        "Note that we need to apply the time unit to the interval for units\ncompatibility. One can also specify multiple intervals"
      ],
      "metadata": {}
    },
    {
      "outputs": [],
      "cell_type": "code",
      "source": [
        "NCA.auc(pop[1], interval=[(10,Inf).*timeu, (10, 15).*timeu])"
      ],
      "metadata": {},
      "execution_count": null
    },
    {
      "cell_type": "markdown",
      "source": [
        "In many cases, the AUC commands may need to extrapolate in order to cover the\ndesired interval. To see the percentage of extrapolation\n($\\frac{\\text{extrapolated AUC}}{\\text{Total AUC}}\\cdot 100$), you can use\nthe command:"
      ],
      "metadata": {}
    },
    {
      "outputs": [],
      "cell_type": "code",
      "source": [
        "NCA.auc_extrap_percent(pop[1])"
      ],
      "metadata": {},
      "execution_count": null
    },
    {
      "cell_type": "markdown",
      "source": [
        "Area under the first moment of the concentration (AUMC) is\n\n$\\int_{t_0}^{t_1} t\\cdot\\text{concentration}(t) dt.$\n\nThe interface of computing AUMC is exactly the same with AUC, and one needs to\nchange `auc` to `aumc` for calculating AUMC or related quantities. For\ninstance,"
      ],
      "metadata": {}
    },
    {
      "outputs": [],
      "cell_type": "code",
      "source": [
        "NCA.aumc_extrap_percent(pop[1])\nNCA.aumc(pop[1])"
      ],
      "metadata": {},
      "execution_count": null
    },
    {
      "cell_type": "markdown",
      "source": [
        "## Terminal Rate Constant ($\\lambda z$)\n\nThe negative slope for concentration vs time in log-linear scale is the\nterminal rate constant, often denoted by $\\lambda z$. To compute $\\lambda z$,\none can call"
      ],
      "metadata": {}
    },
    {
      "outputs": [],
      "cell_type": "code",
      "source": [
        "NCA.lambdaz(pop[1])"
      ],
      "metadata": {},
      "execution_count": null
    },
    {
      "cell_type": "markdown",
      "source": [
        "To get the coefficient of determination ($r^2$), the adjusted coefficient of\ndetermination ($adjr^2$), the $y$-intercept, the first time point used, and the\nnumber of points used while computing $\\lambda z$, one can do:"
      ],
      "metadata": {}
    },
    {
      "outputs": [],
      "cell_type": "code",
      "source": [
        "NCA.lambdazr2(pop)\nNCA.lambdazadjr2(pop)\nNCA.lambdazintercept(pop)\nNCA.lambdaztimefirst(pop)\nNCA.lambdaznpoints(pop)"
      ],
      "metadata": {},
      "execution_count": null
    },
    {
      "cell_type": "markdown",
      "source": [
        "By default, $\\lambda z$ calculation checks last $10$ or less data points, one\ncan change it by providing the keyword `threshold`, e.g."
      ],
      "metadata": {}
    },
    {
      "outputs": [],
      "cell_type": "code",
      "source": [
        "NCA.lambdaz(pop[1], threshold=3)"
      ],
      "metadata": {},
      "execution_count": null
    },
    {
      "cell_type": "markdown",
      "source": [
        "One can also specify the exact data points by passing their indices"
      ],
      "metadata": {}
    },
    {
      "outputs": [],
      "cell_type": "code",
      "source": [
        "NCA.lambdaz(pop[1], idxs=[10, 15, 16])"
      ],
      "metadata": {},
      "execution_count": null
    },
    {
      "cell_type": "markdown",
      "source": [
        "You can also pass their time points"
      ],
      "metadata": {}
    },
    {
      "outputs": [],
      "cell_type": "code",
      "source": [
        "NCA.lambdaz(pop[1], slopetimes=[1,2,3].*timeu)"
      ],
      "metadata": {},
      "execution_count": null
    },
    {
      "cell_type": "markdown",
      "source": [
        "## Simple functions\n\n`T_max` is the time point at which the maximum concentration (`C_max`) is\nobserved, and they can be computed by:"
      ],
      "metadata": {}
    },
    {
      "outputs": [],
      "cell_type": "code",
      "source": [
        "NCA.tmax(pop[1])\nNCA.cmax(pop[1])\nNCA.cmax(pop[1], interval=(20, 24).*timeu)\nNCA.cmax(pop[1], interval=[(20, 24).*timeu, (10, 15).*timeu])"
      ],
      "metadata": {},
      "execution_count": null
    },
    {
      "cell_type": "markdown",
      "source": [
        "Note that `cmax` returns `C_max` and normalized `C_max` if `dose` is provided.\nIf `dose` is provided in the `NCASubject`, that `dose` will be used by all\ncomputations where dose can be used.\n\n\n`T_last` is the time of the last observed concentration value above the lower\nlimit of quantization (LLQ), and the corresponding concentration value is\n(`C_last`). They can be computed by the command"
      ],
      "metadata": {}
    },
    {
      "outputs": [],
      "cell_type": "code",
      "source": [
        "NCA.tlast(pop[1])\nNCA.clast(pop[1])"
      ],
      "metadata": {},
      "execution_count": null
    },
    {
      "cell_type": "markdown",
      "source": [
        "The half-life can be computed by:"
      ],
      "metadata": {}
    },
    {
      "outputs": [],
      "cell_type": "code",
      "source": [
        "NCA.thalf(pop[1])"
      ],
      "metadata": {},
      "execution_count": null
    },
    {
      "cell_type": "markdown",
      "source": [
        "One may need to interpolate or to extrapolate the concentration-time data. For\nexample, if you wanted to interpolate the concentration at $t=12$ using linear\ninterpolation, you would do:"
      ],
      "metadata": {}
    },
    {
      "outputs": [],
      "cell_type": "code",
      "source": [
        "NCA.interpextrapconc(pop[1], 12timeu, method=:linear)"
      ],
      "metadata": {},
      "execution_count": null
    },
    {
      "cell_type": "markdown",
      "source": [
        "`method` can be `:linear`, `:linuplogdown`, or `:linlog`.\n\n# Plots and Summary\n\nTo generate linear and log-linear plots, one can do:"
      ],
      "metadata": {}
    },
    {
      "outputs": [],
      "cell_type": "code",
      "source": [
        "using Plots # load the plotting library\nplot(pop)"
      ],
      "metadata": {},
      "execution_count": null
    },
    {
      "cell_type": "markdown",
      "source": [
        "to only generate the linear plot:"
      ],
      "metadata": {}
    },
    {
      "outputs": [],
      "cell_type": "code",
      "source": [
        "plot(pop, loglinear=false)"
      ],
      "metadata": {},
      "execution_count": null
    },
    {
      "cell_type": "markdown",
      "source": [
        "Similarly, to generate log-linear plot:"
      ],
      "metadata": {}
    },
    {
      "outputs": [],
      "cell_type": "code",
      "source": [
        "plot(pop, linear=false)"
      ],
      "metadata": {},
      "execution_count": null
    },
    {
      "cell_type": "markdown",
      "source": [
        "To calculate all NCA quantities, one can do"
      ],
      "metadata": {}
    },
    {
      "outputs": [],
      "cell_type": "code",
      "source": [
        "report = NCAReport(pop)"
      ],
      "metadata": {},
      "execution_count": null
    },
    {
      "cell_type": "markdown",
      "source": [
        "The `NCAReport` object holds all quantities, and one can call\n`NCA.to_dataframe` to get a `DataFrame` object."
      ],
      "metadata": {}
    },
    {
      "outputs": [],
      "cell_type": "code",
      "source": [
        "reportdf = NCA.to_dataframe(report)\nfirst(reportdf,6) # Print only the first 6 rows"
      ],
      "metadata": {},
      "execution_count": null
    },
    {
      "cell_type": "markdown",
      "source": [
        "# Multiple doses\n\nThe interface of doing NCA with multiple doses is the same as doing single dose\nNCA. To load the data with multiple doses, one can do"
      ],
      "metadata": {}
    },
    {
      "outputs": [],
      "cell_type": "code",
      "source": [
        "multiple_doses_file = Pumas.example_data(\"nca_test_data/dapa_IV_ORAL\")\nmdata = CSV.read(multiple_doses_file)\n\ntimeu = u\"hr\"\nconcu = u\"mg/L\"\namtu  = u\"mg\"\nmdata.id = mdata.ID\nmdata.time = mdata.TIME\nmdata.conc = mdata.COBS\nmdata.amt = mdata.AMT\nmdata.route = replace(mdata.FORMULATION, \"IV\"=>\"iv\", \"ORAL\"=>\"ev\")\nmdata.occasion = mdata.OCC\nmpop = read_nca(mdata, timeu=timeu, concu=concu, amtu=amtu)"
      ],
      "metadata": {},
      "execution_count": null
    },
    {
      "cell_type": "markdown",
      "source": [
        "Note that to read multiple doses files, in addition to single dose inputs, one\nalso needs to provide the `occasion` column.\n\nTo plot:"
      ],
      "metadata": {}
    },
    {
      "outputs": [],
      "cell_type": "code",
      "source": [
        "plot(mpop)"
      ],
      "metadata": {},
      "execution_count": null
    },
    {
      "cell_type": "markdown",
      "source": [
        "To compute AUC and $\\lambda z$:"
      ],
      "metadata": {}
    },
    {
      "outputs": [],
      "cell_type": "code",
      "source": [
        "df = NCA.auc(mpop)\nfirst(df,6) # Print only the first 6 rows"
      ],
      "metadata": {},
      "execution_count": null
    },
    {
      "cell_type": "markdown",
      "source": [
        "To get a summary, we need to provide a reference dose. In this example, we are\ngoing to let the first dose be the reference dose."
      ],
      "metadata": {}
    },
    {
      "outputs": [],
      "cell_type": "code",
      "source": [
        "rep = NCAReport(mpop, ithdose=1)\nreportdf = NCA.to_dataframe(rep)\nfirst(reportdf,6) # Print only the first 6 rows"
      ],
      "metadata": {},
      "execution_count": null
    },
    {
      "outputs": [],
      "cell_type": "code",
      "source": [
        "using PumasTutorials\nPumasTutorials.tutorial_footer(WEAVE_ARGS[:folder],WEAVE_ARGS[:file])"
      ],
      "metadata": {},
      "execution_count": null
    }
  ],
  "nbformat_minor": 2,
  "metadata": {
    "language_info": {
      "file_extension": ".jl",
      "mimetype": "application/julia",
      "name": "julia",
      "version": "1.1.1"
    },
    "kernelspec": {
      "name": "julia-1.1",
      "display_name": "Julia 1.1.1",
      "language": "julia"
    }
  },
  "nbformat": 4
}
